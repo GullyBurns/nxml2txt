{
 "cells": [
  {
   "cell_type": "code",
   "execution_count": 2,
   "metadata": {
    "collapsed": true
   },
   "outputs": [],
   "source": [
    "xml = b'<?xml version=\"1.0\" encoding=\"utf-8\"?>\\r\\n<!DOCTYPE article PUBLIC \"-//NLM//DTD JATS (Z39.96) Journal Publishing DTD v1.1d1 20130915//EN\" \"JATS-journalpublishing1.dtd\">\\r\\n<article article-type=\"research-article\" dtd-version=\"1.1d1\" xml:lang=\"en\" xmlns:xlink=\"http://www.w3.org/1999/xlink\" xmlns:mml=\"http://www.w3.org/1998/Math/MathML\" xmlns:xsi=\"http://www.w3.org/2001/XMLSchema-instance\">\\r\\n<front>\\r\\n<journal-meta>\\r\\n<journal-id journal-id-type=\"publisher-id\">RSIF</journal-id>\\r\\n<journal-id journal-id-type=\"hwp\">royinterface</journal-id><journal-title-group>\\r\\n<journal-title>Journal of the Royal Society Interface</journal-title>\\r\\n<abbrev-journal-title>J. R. Soc. Interface</abbrev-journal-title></journal-title-group>\\r\\n<issn pub-type=\"ppub\">1742-5689</issn>\\r\\n<issn pub-type=\"epub\">1742-5662</issn>\\r\\n<publisher>\\r\\n<publisher-name>The Royal Society</publisher-name>\\r\\n</publisher>\\r\\n</journal-meta>\\r\\n<article-meta>\\r\\n<article-id pub-id-type=\"doi\">10.1098/rsif.2016.0148</article-id>\\r\\n<article-id pub-id-type=\"publisher-id\">rsif20160148</article-id>\\r\\n<article-categories>\\r\\n<subj-group subj-group-type=\"hwp-journal-coll\">\\r\\n<subject>1004</subject>\\r\\n<subject>44</subject>\\r\\n<subject>70</subject>\\r\\n</subj-group>\\r\\n<subj-group subj-group-type=\"heading\">\\r\\n<subject>Life Sciences&#x2013;Mathematics interface</subject>\\r\\n</subj-group>\\r\\n<subj-group subj-group-type=\"leader\">\\r\\n<subject>Research article</subject>\\r\\n</subj-group>\\r\\n</article-categories>\\r\\n<title-group>\\r\\n<article-title>A combined within-host and between-hosts modelling framework for the evolution of resistance to antimalarial drugs</article-title>\\r\\n<alt-title alt-title-type=\"short\">A combined within-host and between-hosts modelling framework for the evolution of resistance to antimalarial drugs</alt-title>\\r\\n</title-group>\\r\\n<contrib-group>\\r\\n<contrib contrib-type=\"author\"><contrib-id contrib-id-type=\"orcid\">http://orcid.org/0000-0003-3807-8594</contrib-id><name><surname>Legros</surname><given-names>Mathieu</given-names></name>\\r\\n<xref ref-type=\"corresp\" rid=\"cor1\"/></contrib>\\r\\n<contrib contrib-type=\"author\"><contrib-id contrib-id-type=\"orcid\">http://orcid.org/0000-0001-8052-3925</contrib-id><name><surname>Bonhoeffer</surname><given-names>Sebastian</given-names></name></contrib>\\r\\n</contrib-group>\\r\\n<aff><institution>ETH Z&#x00FC;rich, Institut f&#x00FC;r Integrative Biologie</institution>, <addr-line>8092 Z&#x00FC;rich</addr-line>, <country>Switzerland</country></aff>\\r\\n<author-notes>\\r\\n<corresp id=\"cor1\">e-mail: <email>mathieu.legros@env.ethz.ch</email></corresp>\\r\\n</author-notes>\\r\\n<pub-date pub-type=\"ppub\"><month>4</month><year>2016</year></pub-date>\\r\\n<volume>13</volume>\\r\\n<issue>117</issue><elocation-id>20160148</elocation-id>\\r\\n<history>\\r\\n<date date-type=\"received\">\\r\\n<day>19</day>\\r\\n<month>2</month>\\r\\n<year>2016</year></date>\\r\\n<date date-type=\"accepted\">\\r\\n<day>22</day>\\r\\n<month>3</month>\\r\\n<year>2016</year></date>\\r\\n</history>\\r\\n<permissions>\\r\\n<copyright-statement>&#x00A9; 2016 The Authors.</copyright-statement>\\r\\n<copyright-year>2016</copyright-year>\\r\\n<license license-type=\"open-access\" xlink:href=\"http://creativecommons.org/licenses/by/4.0/\"><license-p>Published by the Royal Society under the terms of the Creative Commons Attribution License <ext-link ext-link-type=\"uri\" xmlns:xlink=\"http://www.w3.org/1999/xlink\" xlink:href=\"http://creativecommons.org/licenses/by/4.0/\">http://creativecommons.org/licenses/by/4.0/</ext-link>, which permits unrestricted use, provided the original author and source are credited.</license-p></license>\\r\\n</permissions>\\r\\n<self-uri content-type=\"pdf\" xlink:href=\"rsif20160148.pdf\"/>\\r\\n<abstract>\\r\\n<p>The spread of drug resistance represents a significant challenge to many disease control efforts. The evolution of resistance is a complex process influenced by transmission dynamics between hosts as well as infection dynamics within these hosts. This study aims to investigate how these two processes combine to impact the evolution of resistance in malaria parasites. We introduce a stochastic modelling framework combining an epidemiological model of <italic>Plasmodium</italic> transmission and an explicit within-human infection model for two competing strains. Immunity, treatment and resistance costs are included in the within-host model. We show that the spread of resistance is generally less likely in areas of intense transmission, and therefore of increased competition between strains, an effect exacerbated when costs of resistance are higher. We also illustrate how treatment influences the spread of resistance, with a trade-off between slowing resistance and curbing disease incidence. We show that treatment coverage has a stronger impact on disease prevalence, whereas treatment efficacy primarily affects resistance spread, suggesting that coverage should constitute the primary focus of control efforts. Finally, we illustrate the importance of feedbacks between modelling scales. Overall, our results underline the importance of concomitantly modelling the evolution of resistance within and between hosts.</p>\\r\\n</abstract>\\r\\n<kwd-group>\\r\\n<kwd>drug resistance</kwd>\\r\\n<kwd>cost of resistance</kwd>\\r\\n<kwd>malaria</kwd>\\r\\n<kwd><italic>Plasmodium falciparum</italic></kwd>\\r\\n<kwd>stochastic model</kwd>\\r\\n</kwd-group><funding-group specific-use=\"FundRef\"><award-group><funding-source><institution-wrap><institution>European Research Council</institution><institution-id>http://dx.doi.org/10.13039/501100000781</institution-id></institution-wrap></funding-source><award-id>268540</award-id></award-group></funding-group>\\r\\n<custom-meta-group><custom-meta><meta-name>cover-date</meta-name><meta-value>April, 2016</meta-value></custom-meta></custom-meta-group>\\r\\n</article-meta>\\r\\n</front></article>'"
   ]
  },
  {
   "cell_type": "code",
   "execution_count": 4,
   "outputs": [
    {
     "name": "stdout",
     "output_type": "stream",
     "text": [
      "<Element article at 0x7fc6086f9c80>\n"
     ]
    },
    {
     "ename": "AttributeError",
     "evalue": "'lxml.etree._Element' object has no attribute 'getroot'",
     "output_type": "error",
     "traceback": [
      "\u001B[0;31m---------------------------------------------------------------------------\u001B[0m",
      "\u001B[0;31mAttributeError\u001B[0m                            Traceback (most recent call last)",
      "\u001B[0;32m<ipython-input-4-cced8b593711>\u001B[0m in \u001B[0;36m<module>\u001B[0;34m\u001B[0m\n\u001B[1;32m     15\u001B[0m \u001B[0;34m\u001B[0m\u001B[0m\n\u001B[1;32m     16\u001B[0m \u001B[0mtex_options\u001B[0m \u001B[0;34m=\u001B[0m \u001B[0mTexOptions\u001B[0m\u001B[0;34m(\u001B[0m\u001B[0mverbose\u001B[0m\u001B[0;34m=\u001B[0m\u001B[0;32mTrue\u001B[0m\u001B[0;34m)\u001B[0m\u001B[0;34m\u001B[0m\u001B[0;34m\u001B[0m\u001B[0m\n\u001B[0;32m---> 17\u001B[0;31m \u001B[0mrewritetex\u001B[0m\u001B[0;34m.\u001B[0m\u001B[0mprocess_tree\u001B[0m\u001B[0;34m(\u001B[0m\u001B[0mtree\u001B[0m\u001B[0;34m,\u001B[0m \u001B[0moptions\u001B[0m\u001B[0;34m=\u001B[0m\u001B[0mtex_options\u001B[0m\u001B[0;34m)\u001B[0m\u001B[0;34m\u001B[0m\u001B[0;34m\u001B[0m\u001B[0m\n\u001B[0m\u001B[1;32m     18\u001B[0m \u001B[0;34m\u001B[0m\u001B[0m\n\u001B[1;32m     19\u001B[0m \u001B[0;31m# process MathML annotations\u001B[0m\u001B[0;34m\u001B[0m\u001B[0;34m\u001B[0m\u001B[0;34m\u001B[0m\u001B[0m\n",
      "\u001B[0;32m~/Documents/Coding/Pycharm/nxml2txt/src/rewritetex.py\u001B[0m in \u001B[0;36mprocess_tree\u001B[0;34m(tree, cache, stats, options)\u001B[0m\n\u001B[1;32m    395\u001B[0m         \u001B[0mstats\u001B[0m \u001B[0;34m=\u001B[0m \u001B[0mStats\u001B[0m\u001B[0;34m(\u001B[0m\u001B[0;34m)\u001B[0m\u001B[0;34m\u001B[0m\u001B[0;34m\u001B[0m\u001B[0m\n\u001B[1;32m    396\u001B[0m \u001B[0;34m\u001B[0m\u001B[0m\n\u001B[0;32m--> 397\u001B[0;31m     \u001B[0mroot\u001B[0m \u001B[0;34m=\u001B[0m \u001B[0mtree\u001B[0m\u001B[0;34m.\u001B[0m\u001B[0mgetroot\u001B[0m\u001B[0;34m(\u001B[0m\u001B[0;34m)\u001B[0m\u001B[0;34m\u001B[0m\u001B[0;34m\u001B[0m\u001B[0m\n\u001B[0m\u001B[1;32m    398\u001B[0m \u001B[0;34m\u001B[0m\u001B[0m\n\u001B[1;32m    399\u001B[0m     \u001B[0;31m# find \"tex-math\" elements in any namespace (\"local-name\")\u001B[0m\u001B[0;34m\u001B[0m\u001B[0;34m\u001B[0m\u001B[0;34m\u001B[0m\u001B[0m\n",
      "\u001B[0;31mAttributeError\u001B[0m: 'lxml.etree._Element' object has no attribute 'getroot'"
     ]
    }
   ],
   "source": [
    "from collections import namedtuple\n",
    "from lxml import etree\n",
    "from src import rewritetex\n",
    "from src import rewritemmla\n",
    "from src import respace\n",
    "from src import rewriteu2a\n",
    "from src import standoff\n",
    "\n",
    "TexOptions = namedtuple('TexOptions', 'verbose')\n",
    "U2aOptions = namedtuple('U2aOptions', 'hex keep_missing stdout directory overwrite')\n",
    "\n",
    "#tree = etree.parse('test/PMC3357053.nxml')\n",
    "tree = etree.fromstring(xml)\n",
    "print(tree)\n",
    "\n",
    "tex_options = TexOptions(verbose=True)\n",
    "rewritetex.process_tree(tree, options=tex_options)\n",
    "\n",
    "# process MathML annotations\n",
    "rewritemmla.process_tree(tree)\n",
    "\n",
    "# normalize whitespace\n",
    "respace.process_tree(tree)\n",
    "\n",
    "# map unicodoffs = nxml2txt(nxmlfne to ASCII\n",
    "u2a_options = U2aOptions(keep_missing=True, hex=False, stdout=False, directory=None, overwrite=False)\n",
    "rewriteu2a.process_tree(tree, options=u2a_options)\n",
    "\n",
    "# convert to text and standoffs\n",
    "text, standoffs = standoff.convert_tree(tree)"
   ],
   "metadata": {
    "collapsed": false,
    "pycharm": {
     "name": "#%%\n"
    }
   }
  }
 ],
 "metadata": {
  "kernelspec": {
   "display_name": "Python 3",
   "language": "python",
   "name": "python3"
  },
  "language_info": {
   "codemirror_mode": {
    "name": "ipython",
    "version": 2
   },
   "file_extension": ".py",
   "mimetype": "text/x-python",
   "name": "python",
   "nbconvert_exporter": "python",
   "pygments_lexer": "ipython2",
   "version": "2.7.6"
  }
 },
 "nbformat": 4,
 "nbformat_minor": 0
}